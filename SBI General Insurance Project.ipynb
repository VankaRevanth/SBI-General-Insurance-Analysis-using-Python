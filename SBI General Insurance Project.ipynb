{
 "cells": [
  {
   "cell_type": "markdown",
   "id": "e4bf87c0-69b5-4544-a674-402d063c23af",
   "metadata": {},
   "source": [
    "#### Importing NumPy, Pandas, Seaborn, Matplotlib and Warnings Libraries ####"
   ]
  },
  {
   "cell_type": "code",
   "execution_count": 28,
   "id": "9ee4c300-7e72-4af2-b7ee-c3e970983ce5",
   "metadata": {},
   "outputs": [],
   "source": [
    "import numpy as np\n",
    "import pandas as pd\n",
    "import matplotlib.pyplot as plt\n",
    "import seaborn as sns\n",
    "import plotly.express as px\n",
    "import warnings\n",
    "warnings.filterwarnings(\"ignore\")\n",
    "%matplotlib inline"
   ]
  },
  {
   "cell_type": "code",
   "execution_count": 52,
   "id": "437bcb37-b672-4cb4-8d76-c25d6b764d85",
   "metadata": {},
   "outputs": [],
   "source": [
    "# Load the data\n",
    "csv_file = 'Downloads/wSW4Bvy1YFd47nT4GSTe6q/Topmate_Data_Analytics_Bootcamp/SBI General Insurance Uses Case/Dataset/vehicle_insurance_data.csv'\n",
    "data = pd.read_csv(csv_file)"
   ]
  },
  {
   "cell_type": "code",
   "execution_count": 54,
   "id": "6ebaa2a3-2827-470e-8d3a-03bd0dddfc95",
   "metadata": {},
   "outputs": [
    {
     "data": {
      "text/html": [
       "<div>\n",
       "<style scoped>\n",
       "    .dataframe tbody tr th:only-of-type {\n",
       "        vertical-align: middle;\n",
       "    }\n",
       "\n",
       "    .dataframe tbody tr th {\n",
       "        vertical-align: top;\n",
       "    }\n",
       "\n",
       "    .dataframe thead th {\n",
       "        text-align: right;\n",
       "    }\n",
       "</style>\n",
       "<table border=\"1\" class=\"dataframe\">\n",
       "  <thead>\n",
       "    <tr style=\"text-align: right;\">\n",
       "      <th></th>\n",
       "      <th>Ã¯Â»Â¿dealer</th>\n",
       "      <th>zone</th>\n",
       "      <th>state</th>\n",
       "      <th>location</th>\n",
       "      <th>policy</th>\n",
       "      <th>pol_id</th>\n",
       "      <th>consumer</th>\n",
       "      <th>pol_type</th>\n",
       "      <th>addon_prod</th>\n",
       "      <th>brand</th>\n",
       "      <th>...</th>\n",
       "      <th>bank</th>\n",
       "      <th>bank_city</th>\n",
       "      <th>package</th>\n",
       "      <th>financer</th>\n",
       "      <th>fin_branch</th>\n",
       "      <th>road_tax</th>\n",
       "      <th>registration_charges</th>\n",
       "      <th>on_road_price</th>\n",
       "      <th>dt_policy_expiry</th>\n",
       "      <th>policy_term_month</th>\n",
       "    </tr>\n",
       "  </thead>\n",
       "  <tbody>\n",
       "    <tr>\n",
       "      <th>0</th>\n",
       "      <td>Spice Route Auto Haven</td>\n",
       "      <td>Central</td>\n",
       "      <td>Madhya Pradesh</td>\n",
       "      <td>Gwalior</td>\n",
       "      <td>ICICI Lombard General</td>\n",
       "      <td>TIL/000000002</td>\n",
       "      <td>Mr. GUNDE GOWDA D J</td>\n",
       "      <td>TP Renewal</td>\n",
       "      <td>Yes</td>\n",
       "      <td>Mercedes-Benz</td>\n",
       "      <td>...</td>\n",
       "      <td>KARNATAKA BANK LIMITED</td>\n",
       "      <td>BANGALORE</td>\n",
       "      <td>ADDON</td>\n",
       "      <td>HONDA FINANCES</td>\n",
       "      <td>BANGALORE</td>\n",
       "      <td>NaN</td>\n",
       "      <td>NaN</td>\n",
       "      <td>767230</td>\n",
       "      <td>2023-11-18</td>\n",
       "      <td>36</td>\n",
       "    </tr>\n",
       "    <tr>\n",
       "      <th>1</th>\n",
       "      <td>Lotus Lake Auto Hub</td>\n",
       "      <td>South</td>\n",
       "      <td>Telangana</td>\n",
       "      <td>Suryapet</td>\n",
       "      <td>ICICI Lombard General</td>\n",
       "      <td>TIL/000000003</td>\n",
       "      <td>Mr. SHARANAPPA GOUD</td>\n",
       "      <td>TP Renewal</td>\n",
       "      <td>Yes</td>\n",
       "      <td>MG Motor</td>\n",
       "      <td>...</td>\n",
       "      <td>DHANLAXMI BANK LIMITED</td>\n",
       "      <td>BANGALORE</td>\n",
       "      <td>ADDON</td>\n",
       "      <td>NaN</td>\n",
       "      <td>NaN</td>\n",
       "      <td>NaN</td>\n",
       "      <td>NaN</td>\n",
       "      <td>767230</td>\n",
       "      <td>2023-02-25</td>\n",
       "      <td>12</td>\n",
       "    </tr>\n",
       "    <tr>\n",
       "      <th>2</th>\n",
       "      <td>Green Valley Drives</td>\n",
       "      <td>West</td>\n",
       "      <td>Gujarat</td>\n",
       "      <td>Surat</td>\n",
       "      <td>ICICI Lombard General</td>\n",
       "      <td>TIL/000000004</td>\n",
       "      <td>Mr. REVANEPPA H MALAGI</td>\n",
       "      <td>TP Renewal</td>\n",
       "      <td>Yes</td>\n",
       "      <td>BMW</td>\n",
       "      <td>...</td>\n",
       "      <td>DHANLAXMI BANK LIMITED</td>\n",
       "      <td>BANGALORE</td>\n",
       "      <td>ADDON</td>\n",
       "      <td>HONDA FINANCES</td>\n",
       "      <td>BANGALORE</td>\n",
       "      <td>NaN</td>\n",
       "      <td>NaN</td>\n",
       "      <td>751223</td>\n",
       "      <td>2021-02-01</td>\n",
       "      <td>12</td>\n",
       "    </tr>\n",
       "    <tr>\n",
       "      <th>3</th>\n",
       "      <td>Indigo Autos</td>\n",
       "      <td>North-East</td>\n",
       "      <td>Nagaland</td>\n",
       "      <td>Kohima</td>\n",
       "      <td>ICICI Lombard General</td>\n",
       "      <td>TIL/000000005</td>\n",
       "      <td>Mr. RAVI S K</td>\n",
       "      <td>TP Renewal</td>\n",
       "      <td>No</td>\n",
       "      <td>Datsun</td>\n",
       "      <td>...</td>\n",
       "      <td>DHANLAXMI BANK LIMITED</td>\n",
       "      <td>BANGALORE</td>\n",
       "      <td>STANDARD</td>\n",
       "      <td>HONDA FINANCES</td>\n",
       "      <td>BANGALORE</td>\n",
       "      <td>NaN</td>\n",
       "      <td>NaN</td>\n",
       "      <td>599432</td>\n",
       "      <td>2023-05-23</td>\n",
       "      <td>12</td>\n",
       "    </tr>\n",
       "    <tr>\n",
       "      <th>4</th>\n",
       "      <td>Sunflower Auto World</td>\n",
       "      <td>North</td>\n",
       "      <td>Jammu and Kashmir</td>\n",
       "      <td>Srinagar</td>\n",
       "      <td>ICICI Lombard General</td>\n",
       "      <td>TIL/000000006</td>\n",
       "      <td>Mr. PRAKASHA S N</td>\n",
       "      <td>TP Renewal</td>\n",
       "      <td>Yes</td>\n",
       "      <td>Datsun</td>\n",
       "      <td>...</td>\n",
       "      <td>SVC CO OPERATIVE BANK LTD</td>\n",
       "      <td>BANGLORE</td>\n",
       "      <td>ADDON</td>\n",
       "      <td>HONDA FINANCES</td>\n",
       "      <td>BANGALORE</td>\n",
       "      <td>NaN</td>\n",
       "      <td>NaN</td>\n",
       "      <td>721300</td>\n",
       "      <td>2024-08-04</td>\n",
       "      <td>36</td>\n",
       "    </tr>\n",
       "  </tbody>\n",
       "</table>\n",
       "<p>5 rows × 38 columns</p>\n",
       "</div>"
      ],
      "text/plain": [
       "             Ã¯Â»Â¿dealer        zone              state  location  \\\n",
       "0  Spice Route Auto Haven     Central     Madhya Pradesh   Gwalior   \n",
       "1     Lotus Lake Auto Hub       South          Telangana  Suryapet   \n",
       "2     Green Valley Drives        West            Gujarat     Surat   \n",
       "3            Indigo Autos  North-East           Nagaland    Kohima   \n",
       "4    Sunflower Auto World       North  Jammu and Kashmir  Srinagar   \n",
       "\n",
       "                  policy         pol_id                consumer    pol_type  \\\n",
       "0  ICICI Lombard General  TIL/000000002     Mr. GUNDE GOWDA D J  TP Renewal   \n",
       "1  ICICI Lombard General  TIL/000000003     Mr. SHARANAPPA GOUD  TP Renewal   \n",
       "2  ICICI Lombard General  TIL/000000004  Mr. REVANEPPA H MALAGI  TP Renewal   \n",
       "3  ICICI Lombard General  TIL/000000005            Mr. RAVI S K  TP Renewal   \n",
       "4  ICICI Lombard General  TIL/000000006        Mr. PRAKASHA S N  TP Renewal   \n",
       "\n",
       "  addon_prod          brand  ...                       bank  bank_city  \\\n",
       "0        Yes  Mercedes-Benz  ...     KARNATAKA BANK LIMITED  BANGALORE   \n",
       "1        Yes       MG Motor  ...     DHANLAXMI BANK LIMITED  BANGALORE   \n",
       "2        Yes            BMW  ...     DHANLAXMI BANK LIMITED  BANGALORE   \n",
       "3         No         Datsun  ...     DHANLAXMI BANK LIMITED  BANGALORE   \n",
       "4        Yes         Datsun  ...  SVC CO OPERATIVE BANK LTD   BANGLORE   \n",
       "\n",
       "    package        financer fin_branch road_tax  registration_charges  \\\n",
       "0     ADDON  HONDA FINANCES  BANGALORE      NaN                   NaN   \n",
       "1     ADDON             NaN        NaN      NaN                   NaN   \n",
       "2     ADDON  HONDA FINANCES  BANGALORE      NaN                   NaN   \n",
       "3  STANDARD  HONDA FINANCES  BANGALORE      NaN                   NaN   \n",
       "4     ADDON  HONDA FINANCES  BANGALORE      NaN                   NaN   \n",
       "\n",
       "   on_road_price  dt_policy_expiry  policy_term_month  \n",
       "0         767230        2023-11-18                 36  \n",
       "1         767230        2023-02-25                 12  \n",
       "2         751223        2021-02-01                 12  \n",
       "3         599432        2023-05-23                 12  \n",
       "4         721300        2024-08-04                 36  \n",
       "\n",
       "[5 rows x 38 columns]"
      ]
     },
     "execution_count": 54,
     "metadata": {},
     "output_type": "execute_result"
    }
   ],
   "source": [
    "# Show top 5 records\n",
    "data.head(5)"
   ]
  },
  {
   "cell_type": "code",
   "execution_count": 56,
   "id": "5c98fee8-0ca8-408e-b5d6-db3296cf0d2c",
   "metadata": {},
   "outputs": [
    {
     "data": {
      "text/plain": [
       "Index(['Ã¯Â»Â¿dealer', 'zone', 'state', 'location', 'policy', 'pol_id',\n",
       "       'consumer', 'pol_type', 'addon_prod', 'brand', 'product',\n",
       "       'vehicle_type', 'fuel_type', 'transmission', 'dt_pol_create',\n",
       "       'dt_pol_effect', 'insurance_declared_value', 'addon_premium',\n",
       "       'rti_premium', 'od_premium', 'third_party_liability', 'pa_cover',\n",
       "       'legal_liability', 'liability', 'service_tax', 'gross_premium',\n",
       "       'payment_mode', 'dt_cheque', 'bank', 'bank_city', 'package', 'financer',\n",
       "       'fin_branch', 'road_tax', 'registration_charges', 'on_road_price',\n",
       "       'dt_policy_expiry', 'policy_term_month'],\n",
       "      dtype='object')"
      ]
     },
     "execution_count": 56,
     "metadata": {},
     "output_type": "execute_result"
    }
   ],
   "source": [
    "# Return column labels of the Dataframe\n",
    "data.columns"
   ]
  },
  {
   "cell_type": "code",
   "execution_count": 58,
   "id": "1f8413a7-5631-4f60-b90b-428986198003",
   "metadata": {},
   "outputs": [
    {
     "data": {
      "text/plain": [
       "(35066, 38)"
      ]
     },
     "execution_count": 58,
     "metadata": {},
     "output_type": "execute_result"
    }
   ],
   "source": [
    "# Shape of the dataset\n",
    "data.shape"
   ]
  },
  {
   "cell_type": "markdown",
   "id": "e0f62f0e-44b5-45d9-8038-118e875d9e31",
   "metadata": {},
   "source": [
    "#### Q1. Find the Unique Count of Total Customers ? ####"
   ]
  },
  {
   "cell_type": "code",
   "execution_count": 63,
   "id": "c7a05e9c-35c9-4edd-ae35-2b2fe939119c",
   "metadata": {},
   "outputs": [
    {
     "name": "stdout",
     "output_type": "stream",
     "text": [
      "Total Unique Customers: 16886\n"
     ]
    }
   ],
   "source": [
    "unique_customers = data['consumer'].nunique()\n",
    "print(\"Total Unique Customers:\", unique_customers)"
   ]
  },
  {
   "cell_type": "markdown",
   "id": "f552d030-7b15-406e-8cd7-9a2535099ccc",
   "metadata": {},
   "source": [
    "#### Q2. Find the Unique Count of Total Policies ? ####"
   ]
  },
  {
   "cell_type": "code",
   "execution_count": 66,
   "id": "efdf5218-f5d8-423e-ada3-a91a31cd65ec",
   "metadata": {},
   "outputs": [
    {
     "name": "stdout",
     "output_type": "stream",
     "text": [
      "Total Unique Customers: 35064\n"
     ]
    }
   ],
   "source": [
    "unique_policies = data['pol_id'].nunique()\n",
    "print(\"Total Unique Customers:\", unique_policies)"
   ]
  },
  {
   "cell_type": "markdown",
   "id": "6ba38866-1201-4606-9abe-21e8a3a9d71a",
   "metadata": {},
   "source": [
    "#### Q3. Find out the Total Policies by Year ? ####"
   ]
  },
  {
   "cell_type": "code",
   "execution_count": 81,
   "id": "65f79e00-bc97-4588-b967-4b54194954b5",
   "metadata": {},
   "outputs": [
    {
     "name": "stdout",
     "output_type": "stream",
     "text": [
      "   Year  Total Policies\n",
      "0  2020            8744\n",
      "1  2021            8927\n",
      "2  2022            8672\n",
      "3  2023            8723\n"
     ]
    }
   ],
   "source": [
    "# Convert the policy creation date column to date-time column\n",
    "data['dt_pol_create'] = pd.to_datetime(data['dt_pol_create'], errors = 'coerce')\n",
    "\n",
    "# Extract year from policy creation date\n",
    "data['year'] = data['dt_pol_create'].dt.year\n",
    "\n",
    "# Calculate the yearly total count of policies\n",
    "yearly_policy_count = data.groupby('year')['pol_id'].count().reset_index()\n",
    "yearly_policy_count.columns = ['Year','Total Policies']\n",
    "print(yearly_policy_count)"
   ]
  },
  {
   "cell_type": "code",
   "execution_count": 89,
   "id": "4b9e3380-ec89-41d1-8fd8-4fd249412e0e",
   "metadata": {},
   "outputs": [
    {
     "data": {
      "image/png": "[encoded data removed]",
      "text/plain": [
       "<Figure size 1000x600 with 1 Axes>"
      ]
     },
     "metadata": {},
     "output_type": "display_data"
    }
   ],
   "source": [
    "# Set the style of the plot\n",
    "sns.set(style=\"whitegrid\")\n",
    "\n",
    "# Create the bar plot\n",
    "plt.figure(figsize=(10, 6))\n",
    "bar_plot = sns.barplot(x='Year', y='Total Policies', data=yearly_policy_count, palette='viridis')\n",
    "\n",
    "# Add titles and labels\n",
    "plt.title('Yearly Total Count of Policies', fontsize=16)\n",
    "plt.xlabel('Year', fontsize=14)\n",
    "plt.ylabel('Total Policies', fontsize=14)\n",
    "\n",
    "# Add values on top of the bars\n",
    "for index, row in yearly_policy_count.iterrows():\n",
    "    bar_plot.text(row.name, row['Total Policies'], round(row['Total Policies'], 2), color='black', ha=\"center\")\n",
    "\n",
    "# Show the plot\n",
    "plt.show()"
   ]
  },
  {
   "cell_type": "markdown",
   "id": "2dca458f-3dc8-4870-bb0f-1bc7f75cb191",
   "metadata": {},
   "source": [
    "#### Q4. What are the top 10 banks with the highest count of unique customers ? ####"
   ]
  },
  {
   "cell_type": "code",
   "execution_count": 92,
   "id": "979924f0-a2c1-41f9-8ec3-e2d872cd821b",
   "metadata": {},
   "outputs": [
    {
     "name": "stdout",
     "output_type": "stream",
     "text": [
      "                                    Bank  Total Customers\n",
      "19                               AMEX CC            10179\n",
      "18  AMERICAN EXPRESS BANKING CORPORATION             7076\n",
      "44                DHANLAXMI BANK LIMITED             4471\n",
      "3                                    ACH             1410\n",
      "67                        ONLINE PAYMENT              361\n",
      "83                   STATE BANK OF INDIA              346\n",
      "49                        HDFC BANK LTD.              304\n",
      "53                    ICICI BANK LIMITED              225\n",
      "28                           CANARA BANK              187\n",
      "21                         AXIS BANK LTD              132\n"
     ]
    }
   ],
   "source": [
    "# Calculate the unique count of customers by bank\n",
    "customers_by_bank = data.groupby('bank')['consumer'].nunique().reset_index()\n",
    "customers_by_bank.columns = ['Bank','Total Customers']\n",
    "\n",
    "# Sort by Total Customers in descending order\n",
    "customers_by_bank = customers_by_bank.sort_values(by = 'Total Customers', ascending=False)\n",
    "\n",
    "# Select Top 10 banks\n",
    "Top_10_banks = customers_by_bank.head(10)\n",
    "\n",
    "# Print the banks list\n",
    "print(Top_10_banks)"
   ]
  },
  {
   "cell_type": "markdown",
   "id": "5bd795fd-07c4-4f47-8cc1-75f1211de075",
   "metadata": {},
   "source": [
    "#### Q5. Find out the total customers by payment mode ? ####"
   ]
  },
  {
   "cell_type": "code",
   "execution_count": 95,
   "id": "168cd142-9d07-4577-94a2-69158a58a7f4",
   "metadata": {},
   "outputs": [
    {
     "name": "stdout",
     "output_type": "stream",
     "text": [
      "          Payment Mode  Total Customers\n",
      "0                 Cash              456\n",
      "1         Direct Debit            11202\n",
      "2          Installment             1849\n",
      "3                 Loan               30\n",
      "4                Other              654\n",
      "5  Unknown/Unspecified            10181\n"
     ]
    }
   ],
   "source": [
    "# Calculate total customers by payment mode\n",
    "customers_by_payment_mode = data.groupby('payment_mode')['consumer'].nunique().reset_index()\n",
    "customers_by_payment_mode.columns = ['Payment Mode', 'Total Customers']\n",
    "\n",
    "# Print the result\n",
    "print(customers_by_payment_mode)"
   ]
  },
  {
   "cell_type": "markdown",
   "id": "2b6f1fde-9478-44b1-a0ce-2e6327da6b56",
   "metadata": {},
   "source": [
    "#### Q6. Find out the total count of customers by policy type ? ####"
   ]
  },
  {
   "cell_type": "code",
   "execution_count": 99,
   "id": "efbc2ed6-ca7d-4ae8-8c8f-12f5d51b9c49",
   "metadata": {},
   "outputs": [
    {
     "name": "stdout",
     "output_type": "stream",
     "text": [
      "       Policy Type  Total Customers\n",
      "0    First Renewal              561\n",
      "1              NEW              561\n",
      "2      NTP Renewal             5140\n",
      "3              New             7648\n",
      "4  Seconed Renewal              561\n",
      "5       TP Renewal             9160\n"
     ]
    }
   ],
   "source": [
    "# Calculate the total customers by policy type\n",
    "customers_by_policy_type = data.groupby('pol_type')['consumer'].nunique().reset_index()\n",
    "customers_by_policy_type.columns = ['Policy Type', 'Total Customers']\n",
    "\n",
    "# Print the result\n",
    "print(customers_by_policy_type)"
   ]
  },
  {
   "cell_type": "markdown",
   "id": "9b23f30a-2804-4697-9e99-e892ef291edb",
   "metadata": {},
   "source": [
    "#### Q7. Find out the total count of customers by policy ? ####"
   ]
  },
  {
   "cell_type": "code",
   "execution_count": 103,
   "id": "1db0ae8d-c2b0-40c2-a4ef-a5b0d9adbacf",
   "metadata": {},
   "outputs": [
    {
     "name": "stdout",
     "output_type": "stream",
     "text": [
      "                   Policy  Total Customers\n",
      "0   Bajaj Allianz General             3398\n",
      "1  Cholamandalam MS Gener             4401\n",
      "2   ICICI Lombard General             6563\n",
      "3  IFFCO Tokio General In              821\n",
      "4  Reliance General Insur             3102\n",
      "5   SBI General Insurance             2703\n",
      "6  The New India Assuranc                4\n",
      "7  United India Insurance               61\n"
     ]
    }
   ],
   "source": [
    "# Calculate the total customers by policy\n",
    "customers_by_policy = data.groupby('policy')['consumer'].nunique().reset_index()\n",
    "customers_by_policy.columns = ['Policy', 'Total Customers']\n",
    "\n",
    "# Print the result\n",
    "print(customers_by_policy)"
   ]
  },
  {
   "cell_type": "code",
   "execution_count": 105,
   "id": "22e7e1a4-ef35-478b-a255-23cd8f5e6b05",
   "metadata": {},
   "outputs": [
    {
     "data": {
      "image/png": "[encoded data removed]",
      "text/plain": [
       "<Figure size 1000x600 with 1 Axes>"
      ]
     },
     "metadata": {},
     "output_type": "display_data"
    }
   ],
   "source": [
    "# Sort the data by total customers in descending order\n",
    "customers_by_policy = customers_by_policy.sort_values(by='Total Customers', ascending=False)\n",
    "\n",
    "# Create a bar plot\n",
    "plt.figure(figsize=(10,6))\n",
    "bar_plot = sns.barplot(x = 'Total Customers', y = 'Policy', data = customers_by_policy, palette = 'viridis')\n",
    "\n",
    "# Add titles and labels\n",
    "plt.title('Total Customers by Policy Type', fontsize = 16)\n",
    "plt.xlabel('Total Customers', fontsize = 14)\n",
    "plt.ylabel('Policy Type', fontsize  = 14)\n",
    "\n",
    "# Show the plot\n",
    "plt.show()"
   ]
  },
  {
   "cell_type": "markdown",
   "id": "a11585ca-74fb-4de9-8923-986b2abf0234",
   "metadata": {},
   "source": [
    "#### Q8. Find out the total count of policies by vehicle type ? ####"
   ]
  },
  {
   "cell_type": "code",
   "execution_count": 109,
   "id": "f600a021-94e5-4532-a552-120daef7a601",
   "metadata": {},
   "outputs": [
    {
     "name": "stdout",
     "output_type": "stream",
     "text": [
      "  Vehicle_Type  Total Policies\n",
      "4          SUV           17497\n",
      "1    Hatchback            6740\n",
      "5        Sedan            6626\n",
      "2          MPV            2128\n",
      "6   Sports Car             670\n",
      "3       Pickup             663\n",
      "7        Wagon             390\n",
      "0        Coupe             352\n"
     ]
    }
   ],
   "source": [
    "# Calculate the total customers by vehicle type\n",
    "customers_by_vehicle_type = data.groupby('vehicle_type')['pol_id'].count().reset_index()\n",
    "customers_by_vehicle_type.columns = ['Vehicle_Type', 'Total Policies']\n",
    "\n",
    "# Sort the data by total policy count in descending order\n",
    "customers_by_vehicle_type = customers_by_vehicle_type.sort_values(by='Total Policies', ascending=False)\n",
    "\n",
    "# Print the result\n",
    "print(customers_by_vehicle_type)"
   ]
  },
  {
   "cell_type": "markdown",
   "id": "20ab8725-9c00-4cff-b603-24503694b6e9",
   "metadata": {},
   "source": [
    "#### Q9. Find out the total count of customers by policy type ? ####"
   ]
  },
  {
   "cell_type": "code",
   "execution_count": 112,
   "id": "34b2cb3e-5d75-464b-b794-71698b7d0dcc",
   "metadata": {},
   "outputs": [
    {
     "name": "stdout",
     "output_type": "stream",
     "text": [
      "       Policy Type  Total Customers Count\n",
      "5       TP Renewal                   9160\n",
      "3              New                   7648\n",
      "2      NTP Renewal                   5140\n",
      "0    First Renewal                    561\n",
      "1              NEW                    561\n",
      "4  Seconed Renewal                    561\n"
     ]
    }
   ],
   "source": [
    "# Calculate the total customers by policy type\n",
    "customers_by_policy_type = data.groupby('pol_type')['consumer'].nunique().reset_index()\n",
    "customers_by_policy_type.columns = ['Policy Type', 'Total Customers Count']\n",
    "\n",
    "# Sort the total customers count in descending order\n",
    "customers_by_policy_type = customers_by_policy_type.sort_values(by='Total Customers Count', ascending = False)\n",
    "\n",
    "# Print the result\n",
    "print(customers_by_policy_type)"
   ]
  },
  {
   "cell_type": "code",
   "execution_count": 114,
   "id": "9ae6c638-763e-4584-ae26-fe1e13c8dd93",
   "metadata": {},
   "outputs": [
    {
     "data": {
      "image/png": "[encoded data removed]",
      "text/plain": [
       "<Figure size 1000x600 with 1 Axes>"
      ]
     },
     "metadata": {},
     "output_type": "display_data"
    }
   ],
   "source": [
    "# Create a bar plot\n",
    "plt.figure(figsize=(10,6))\n",
    "bar_plot = sns.barplot(x='Policy Type', y='Total Customers Count', data=customers_by_policy_type, palette = 'viridis')\n",
    "\n",
    "# Add the titles and labels\n",
    "plt.title('Total Customers by Policy Type', fontsize = 16)\n",
    "plt.xlabel('Policy Type', fontsize = 14)\n",
    "plt.ylabel('Total Customers Count')\n",
    "\n",
    "# Show the plot\n",
    "plt.show()"
   ]
  },
  {
   "cell_type": "markdown",
   "id": "f3c57218-d7ce-4c8a-ab32-92389e814ec3",
   "metadata": {},
   "source": [
    "#### Q10. What is our overall performance in vehicle insurance ? ####"
   ]
  },
  {
   "cell_type": "code",
   "execution_count": 117,
   "id": "11b1bfb9-a399-421f-9884-c3b419990360",
   "metadata": {},
   "outputs": [
    {
     "name": "stdout",
     "output_type": "stream",
     "text": [
      "Total policies collected are: 35064\n",
      "Total premium amount collected: 1419881376\n"
     ]
    }
   ],
   "source": [
    "# Total number of policies collected\n",
    "total_policies = data['pol_id'].nunique()\n",
    "\n",
    "# Total premium amount collected\n",
    "total_premium = data['gross_premium'].sum()\n",
    "\n",
    "# Print the result\n",
    "print('Total policies collected are:', total_policies)\n",
    "print('Total premium amount collected:', total_premium)"
   ]
  },
  {
   "cell_type": "code",
   "execution_count": 121,
   "id": "6755a269-d6d4-4b33-8797-f8e0e7a69766",
   "metadata": {},
   "outputs": [
    {
     "name": "stdout",
     "output_type": "stream",
     "text": [
      "Total number of unique customers are: 16886\n",
      "Total insured value is: 34631375975\n",
      "Total number of running policies are: 35064\n"
     ]
    }
   ],
   "source": [
    "# Calculate the unique count of customers\n",
    "unique_customers = data['consumer'].nunique()\n",
    "\n",
    "# Calculate the total insurance declared value\n",
    "total_insured_value = data['insurance_declared_value'].sum()\n",
    "\n",
    "# Calculate the total number of policies\n",
    "total_policies = data['pol_id'].nunique()\n",
    "\n",
    "# Display the results\n",
    "print('Total number of unique customers are:', unique_customers)\n",
    "print('Total insured value is:', total_insured_value)\n",
    "print('Total number of running policies are:', total_policies)"
   ]
  },
  {
   "cell_type": "markdown",
   "id": "fbae5cfe-a19d-415d-aeb3-16dec40c72b9",
   "metadata": {},
   "source": [
    "#### Q11. Find out the top 10 policies by state ? ####"
   ]
  },
  {
   "cell_type": "code",
   "execution_count": 124,
   "id": "534cb485-2c1a-4ce5-847a-1bf89808ac85",
   "metadata": {},
   "outputs": [
    {
     "name": "stdout",
     "output_type": "stream",
     "text": [
      "             State  Total Policies\n",
      "22       Telangana            3315\n",
      "15     Maharashtra            3126\n",
      "5     Chhattisgarh            1978\n",
      "14  Madhya Pradesh            1919\n",
      "10       Jharkhand            1893\n",
      "23   Uttar Pradesh            1889\n",
      "20       Rajasthan            1876\n",
      "4            Bihar            1694\n",
      "7          Haryana            1680\n",
      "6          Gujarat            1632\n"
     ]
    }
   ],
   "source": [
    "# Calculate the total number of policies by state\n",
    "policies_by_state = data.groupby('state')['pol_id'].count().reset_index()\n",
    "policies_by_state.columns = ['State', 'Total Policies']\n",
    "\n",
    "# Sort the data by Total Policies in descending order\n",
    "policies_by_state = policies_by_state.sort_values(by='Total Policies', ascending = False).head(10)\n",
    "\n",
    "# Display the result\n",
    "print(policies_by_state)"
   ]
  },
  {
   "cell_type": "markdown",
   "id": "4d5bcfad-3ff5-48aa-af78-2817fb44e2bb",
   "metadata": {},
   "source": [
    "#### Q12. How are my customers Distributed over Banks ? ####"
   ]
  },
  {
   "cell_type": "code",
   "execution_count": 127,
   "id": "623974c2-462d-4939-a4e9-58fde5b7924e",
   "metadata": {},
   "outputs": [
    {
     "name": "stdout",
     "output_type": "stream",
     "text": [
      "Top 10 Banks by Customer Count:\n",
      "                                    Bank  Total Customers\n",
      "19                               AMEX CC            10179\n",
      "18  AMERICAN EXPRESS BANKING CORPORATION             7076\n",
      "44                DHANLAXMI BANK LIMITED             4471\n",
      "3                                    ACH             1410\n",
      "67                        ONLINE PAYMENT              361\n",
      "83                   STATE BANK OF INDIA              346\n",
      "49                        HDFC BANK LTD.              304\n",
      "53                    ICICI BANK LIMITED              225\n",
      "28                           CANARA BANK              187\n",
      "21                         AXIS BANK LTD              132\n"
     ]
    }
   ],
   "source": [
    "# Calculate the total customers for each bank\n",
    "customers_by_bank = data.groupby('bank')['consumer'].nunique().reset_index()\n",
    "customers_by_bank.columns = ['Bank', 'Total Customers']\n",
    "\n",
    "# Sort the values by Total number of Customers in descending order\n",
    "customers_by_bank = customers_by_bank.sort_values(by='Total Customers', ascending=False).head(10)\n",
    "\n",
    "# Calculate the total customers by payment mode\n",
    "customers_by_payment_mode = data.groupby('payment_mode')['consumer'].nunique().reset_index()\n",
    "customers_by_payment_mode.columns = ['Payment Mode', 'Total Custmers']\n",
    "\n",
    "# Display the result\n",
    "print('Top 10 Banks by Customer Count:')\n",
    "print(customers_by_bank)"
   ]
  },
  {
   "cell_type": "code",
   "execution_count": 129,
   "id": "c12436a0-2bd6-475e-b541-73c9df66d2c3",
   "metadata": {},
   "outputs": [
    {
     "name": "stdout",
     "output_type": "stream",
     "text": [
      "Total number of unique customers by payment mode:\n",
      "          Payment Mode  Total Custmers\n",
      "0                 Cash             456\n",
      "1         Direct Debit           11202\n",
      "2          Installment            1849\n",
      "3                 Loan              30\n",
      "4                Other             654\n",
      "5  Unknown/Unspecified           10181\n"
     ]
    }
   ],
   "source": [
    "print('Total number of unique customers by payment mode:')\n",
    "print(customers_by_payment_mode)"
   ]
  },
  {
   "cell_type": "markdown",
   "id": "39128696-a5e5-4c69-8be2-d5f5811afe95",
   "metadata": {},
   "source": [
    "   #### OBSERVATION: Amex cc is popular amongst customers and they like the Direct Debit Facility of payment mode."
   ]
  },
  {
   "cell_type": "markdown",
   "id": "e55fd78b-6277-4d0f-b032-64dac567acdc",
   "metadata": {},
   "source": [
    "#### Q13. How do the average gross premiums differ among various insurance packages and vehicle types ? ####"
   ]
  },
  {
   "cell_type": "code",
   "execution_count": 139,
   "id": "485d5bf1-e836-4212-b88e-fdf2b96803c4",
   "metadata": {},
   "outputs": [
    {
     "name": "stdout",
     "output_type": "stream",
     "text": [
      "Average Gross Premium by Package:\n",
      "     Package  Average Gross Premium\n",
      "4     LUXURY           84679.078935\n",
      "6        RTI           76770.666667\n",
      "7   STANDARD           65483.433333\n",
      "5    PREMIUM           59505.161795\n",
      "1    ADVANCE           39637.263836\n",
      "0      ADDON           38315.629630\n",
      "2    DELIGHT           29042.776817\n",
      "8   SUPERIOR           27084.889888\n",
      "3  ESSENTIAL           18215.136753\n",
      "9     Select           11927.384615\n",
      "Average Gross Premium by Vehicle Type:\n",
      "      Package  Average Gross Premium\n",
      "0       Coupe           41767.275568\n",
      "1   Hatchback           41104.533976\n",
      "2         MPV           40506.812030\n",
      "5       Sedan           40404.866888\n",
      "4         SUV           40362.823398\n",
      "6  Sports Car           40309.071642\n",
      "3      Pickup           39271.324284\n",
      "7       Wagon           38311.038462\n"
     ]
    }
   ],
   "source": [
    "# Average Gross Premium by Package\n",
    "avg_gross_premium_by_package = data.groupby('package')['gross_premium'].mean().reset_index()\n",
    "avg_gross_premium_by_package.columns = ['Package', 'Average Gross Premium']\n",
    "avg_gross_premium_by_package = avg_gross_premium_by_package.sort_values(by='Average Gross Premium', ascending=False)\n",
    "\n",
    "# Average Gross Premium by Vehicle Types\n",
    "avg_gross_premium_by_vehicle_type = data.groupby('vehicle_type')['gross_premium'].mean().reset_index()\n",
    "avg_gross_premium_by_vehicle_type.columns = ['Package', 'Average Gross Premium']\n",
    "avg_gross_premium_by_vehicle_type = avg_gross_premium_by_vehicle_type.sort_values(by='Average Gross Premium', ascending=False)\n",
    "\n",
    "# Display the results\n",
    "print('Average Gross Premium by Package:')\n",
    "print(avg_gross_premium_by_package)\n",
    "\n",
    "print('Average Gross Premium by Vehicle Type:')\n",
    "print(avg_gross_premium_by_vehicle_type)"
   ]
  },
  {
   "cell_type": "markdown",
   "id": "ff783fb8-6527-490c-8e41-5ba8375097fd",
   "metadata": {},
   "source": [
    "   #### OBSERVATION: Luxury and RTI Package are popular in high end customers whose top 3 vehicle type choices are Sports Car, MPV, SUV."
   ]
  },
  {
   "cell_type": "markdown",
   "id": "afeb4246-d528-4ab9-9e22-8d9485c8ca32",
   "metadata": {},
   "source": [
    "#### Q14. Which regions and categories contribute the most to the sales ? ####"
   ]
  },
  {
   "cell_type": "code",
   "execution_count": 145,
   "id": "8b954e84-c72d-435e-8ca1-59463f205be8",
   "metadata": {},
   "outputs": [
    {
     "name": "stdout",
     "output_type": "stream",
     "text": [
      "Total Gross Premium by State:\n",
      "             State  Total Gross Premium\n",
      "22       Telangana            133670003\n",
      "15     Maharashtra            128361682\n",
      "5     Chhattisgarh             78182496\n",
      "10       Jharkhand             77810559\n",
      "23   Uttar Pradesh             77343272\n",
      "14  Madhya Pradesh             75293993\n",
      "20       Rajasthan             74625798\n",
      "7          Haryana             70595736\n",
      "4            Bihar             68608955\n",
      "6          Gujarat             65308744\n",
      "Total Gross Premium by Vehicle Type:\n",
      "  Vehicle Type  Total Gross Premium\n",
      "4          SUV            706228321\n",
      "1    Hatchback            277044559\n",
      "5        Sedan            267722648\n",
      "2          MPV             86198496\n",
      "6   Sports Car             27007078\n",
      "3       Pickup             26036888\n",
      "7        Wagon             14941305\n",
      "0        Coupe             14702081\n"
     ]
    }
   ],
   "source": [
    "# Total Gross Premium by State\n",
    "gross_premium_by_state = data.groupby('state')['gross_premium'].sum().reset_index()\n",
    "gross_premium_by_state.columns = ['State', 'Total Gross Premium']\n",
    "gross_premium_by_state = gross_premium_by_state.sort_values(by='Total Gross Premium', ascending=False).head(10)\n",
    "\n",
    "# Total Gross Premium by Vehicle Type\n",
    "gross_premium_by_vehicle_type = data.groupby('vehicle_type')['gross_premium'].sum().reset_index()\n",
    "gross_premium_by_vehicle_type.columns = ['Vehicle Type', 'Total Gross Premium']\n",
    "gross_premium_by_vehicle_type = gross_premium_by_vehicle_type.sort_values(by='Total Gross Premium', ascending=False)\n",
    "\n",
    "# Display the result\n",
    "print('Total Gross Premium by State:')\n",
    "print(gross_premium_by_state)\n",
    "\n",
    "print('Total Gross Premium by Vehicle Type:')\n",
    "print(gross_premium_by_vehicle_type)"
   ]
  },
  {
   "cell_type": "markdown",
   "id": "b1a792cd-095f-4b38-a3b8-fe1948d37d74",
   "metadata": {},
   "source": [
    "## Outcome: ##\n",
    "In conclusion, our analysis reveals distinct preferences and behaviors among our clientele. High-end customers exhibit a strong preference for          luxury and the RTI Package, with Sports Cars, MPVs, and SUVs emerging as their vehicles of choice. Furthermore, there's a noticeable trend towards      TP Renewal, with SUVs standing out as the favored vehicle type. The payment preferences of our customers lean towards the convenience of American       Express credit cards and the Direct Debit Facility, highlighting their desire for streamlined transactions. Impressively, our current customer base     encompasses 16,891 individuals, collectively insuring an amount of $34.6 billion across 35,066 policies."
   ]
  }
 ],
 "metadata": {
  "kernelspec": {
   "display_name": "Python [conda env:base] *",
   "language": "python",
   "name": "conda-base-py"
  },
  "language_info": {
   "codemirror_mode": {
    "name": "ipython",
    "version": 3
   },
   "file_extension": ".py",
   "mimetype": "text/x-python",
   "name": "python",
   "nbconvert_exporter": "python",
   "pygments_lexer": "ipython3",
   "version": "3.12.7"
  }
 },
 "nbformat": 4,
 "nbformat_minor": 5
}
